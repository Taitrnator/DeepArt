{
 "cells": [
  {
   "cell_type": "code",
   "execution_count": 1,
   "metadata": {},
   "outputs": [
    {
     "name": "stderr",
     "output_type": "stream",
     "text": [
      "/home/tait/.local/lib/python3.5/site-packages/h5py/__init__.py:36: FutureWarning: Conversion of the second argument of issubdtype from `float` to `np.floating` is deprecated. In future, it will be treated as `np.float64 == np.dtype(float).type`.\n",
      "  from ._conv import register_converters as _register_converters\n",
      "18807it [00:00, 580725.56it/s]"
     ]
    },
    {
     "name": "stdout",
     "output_type": "stream",
     "text": [
      "loaded 18807 art images\n"
     ]
    },
    {
     "name": "stderr",
     "output_type": "stream",
     "text": [
      "\n"
     ]
    }
   ],
   "source": [
    "%matplotlib inline\n",
    "\n",
    "import fnmatch\n",
    "import os\n",
    "import matplotlib.pyplot as plt\n",
    "from PIL import Image\n",
    "import numpy as np\n",
    "from tqdm import tqdm\n",
    "import random\n",
    "from sklearn.decomposition import PCA\n",
    "import tensorflow as tf\n",
    "\n",
    "from sklearn.cluster import KMeans\n",
    "\n",
    "lfw_path = \"./dataset\"\n",
    "    \n",
    "images = []\n",
    "for root, dirnames, filenames in os.walk(lfw_path):\n",
    "    for filename in fnmatch.filter(filenames, '*.jpg'):\n",
    "        images.append(os.path.join(root, filename))\n",
    "\n",
    "for i, image in tqdm(enumerate(images)):\n",
    "    if (os.stat(image).st_size < 500):\n",
    "        del images[i]\n",
    "        \n",
    "n = len(images)\n",
    "print(\"loaded %d art images\" % n)"
   ]
  },
  {
   "cell_type": "code",
   "execution_count": 2,
   "metadata": {},
   "outputs": [
    {
     "name": "stderr",
     "output_type": "stream",
     "text": [
      "18807it [00:25, 737.25it/s]\n"
     ]
    }
   ],
   "source": [
    "w = h = 100\n",
    "\n",
    "X = np.zeros((n, w*h*1))\n",
    "for i, img in tqdm(enumerate(images)):\n",
    "    im = Image.open(img).convert(\"L\")\n",
    "    width, height = im.size\n",
    "    left = (width - w)/2\n",
    "    top = (height - h)/2\n",
    "    right = (width + w)/2\n",
    "    bottom = (height + h)/2\n",
    "    im = im.crop((left, top, right, bottom))\n",
    "    pixels = im.getdata()\n",
    "    X[i, :] = np.array(pixels)"
   ]
  },
  {
   "cell_type": "code",
   "execution_count": null,
   "metadata": {},
   "outputs": [],
   "source": []
  },
  {
   "cell_type": "code",
   "execution_count": 4,
   "metadata": {},
   "outputs": [
    {
     "ename": "SyntaxError",
     "evalue": "invalid syntax (<ipython-input-4-f17899b8dcb4>, line 5)",
     "output_type": "error",
     "traceback": [
      "\u001b[0;36m  File \u001b[0;32m\"<ipython-input-4-f17899b8dcb4>\"\u001b[0;36m, line \u001b[0;32m5\u001b[0m\n\u001b[0;31m    print(index)    xp1 = img.reshape(w,h)\u001b[0m\n\u001b[0m                      ^\u001b[0m\n\u001b[0;31mSyntaxError\u001b[0m\u001b[0;31m:\u001b[0m invalid syntax\n"
     ]
    }
   ],
   "source": [
    "#make clusters for each one. Crucial step because this actually captures the composition within an image\n",
    "kmeans = KMeans(n_clusters=3)\n",
    "labels = []\n",
    "for index, img in tqdm(enumerate(X)):\n",
    "    print(index)    xp1 = img.reshape(w,h)\n",
    "    xp2 = xp1.reshape(w*h, 1)\n",
    "    kmeans.fit(xp2)\n",
    "    label = kmeans.labels_\n",
    "    labels.append(label)"
   ]
  },
  {
   "cell_type": "code",
   "execution_count": null,
   "metadata": {},
   "outputs": [],
   "source": [
    "im3=labels[100].reshape(w,h)\n",
    "plt.figure(figsize=(6, 6))\n",
    "plt.axis(\"off\")\n",
    "plt.imshow(im3)\n",
    "plt.colorbar()\n",
    "plt.show()"
   ]
  },
  {
   "cell_type": "code",
   "execution_count": null,
   "metadata": {},
   "outputs": [],
   "source": []
  }
 ],
 "metadata": {
  "kernelspec": {
   "display_name": "Python 3",
   "language": "python",
   "name": "python3"
  },
  "language_info": {
   "codemirror_mode": {
    "name": "ipython",
    "version": 3
   },
   "file_extension": ".py",
   "mimetype": "text/x-python",
   "name": "python",
   "nbconvert_exporter": "python",
   "pygments_lexer": "ipython3",
   "version": "3.5.2"
  }
 },
 "nbformat": 4,
 "nbformat_minor": 2
}
