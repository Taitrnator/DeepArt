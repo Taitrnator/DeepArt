{
 "cells": [
  {
   "cell_type": "code",
   "execution_count": 2,
   "metadata": {},
   "outputs": [
    {
     "name": "stderr",
     "output_type": "stream",
     "text": [
      "/home/tait/.local/lib/python3.5/site-packages/h5py/__init__.py:36: FutureWarning: Conversion of the second argument of issubdtype from `float` to `np.floating` is deprecated. In future, it will be treated as `np.float64 == np.dtype(float).type`.\n",
      "  from ._conv import register_converters as _register_converters\n",
      "18807it [00:00, 556084.65it/s]"
     ]
    },
    {
     "name": "stdout",
     "output_type": "stream",
     "text": [
      "loaded 18807 art images\n"
     ]
    },
    {
     "name": "stderr",
     "output_type": "stream",
     "text": [
      "\n"
     ]
    }
   ],
   "source": [
    "%matplotlib inline\n",
    "import csv\n",
    "import fnmatch\n",
    "import os\n",
    "import matplotlib.pyplot as plt\n",
    "from PIL import Image\n",
    "import numpy as np\n",
    "from tqdm import tqdm\n",
    "import random\n",
    "from sklearn.decomposition import PCA\n",
    "import tensorflow as tf\n",
    "from sklearn.cluster import KMeans\n",
    "import pandas as pd\n",
    "\n",
    "lfw_path = \"../dataset\"\n",
    "    \n",
    "images = []\n",
    "for root, dirnames, filenames in os.walk(lfw_path):\n",
    "    for filename in fnmatch.filter(filenames, '*.jpg'):\n",
    "        images.append(os.path.join(root, filename))\n",
    "\n",
    "for i, image in tqdm(enumerate(images)):\n",
    "    if (os.stat(image).st_size < 500):\n",
    "        del images[i]\n",
    "        \n",
    "n = len(images)\n",
    "print(\"loaded %d art images\" % n)"
   ]
  },
  {
   "cell_type": "code",
   "execution_count": 4,
   "metadata": {},
   "outputs": [
    {
     "name": "stderr",
     "output_type": "stream",
     "text": [
      "18807it [00:25, 742.23it/s]\n"
     ]
    }
   ],
   "source": [
    "w = h = 100\n",
    "\n",
    "X = np.zeros((n, w*h*1))\n",
    "for i, img in tqdm(enumerate(images)):\n",
    "    im = Image.open(img).convert(\"L\")\n",
    "    width, height = im.size\n",
    "    left = (width - w)/2\n",
    "    top = (height - h)/2\n",
    "    right = (width + w)/2\n",
    "    bottom = (height + h)/2\n",
    "    im = im.crop((left, top, right, bottom))\n",
    "    pixels = im.getdata()\n",
    "    X[i, :] = np.array(pixels)"
   ]
  },
  {
   "cell_type": "code",
   "execution_count": null,
   "metadata": {},
   "outputs": [],
   "source": []
  },
  {
   "cell_type": "code",
   "execution_count": 5,
   "metadata": {},
   "outputs": [],
   "source": [
    "#make clusters for each one. Crucial step because this actually captures the composition within an image\n",
    "kmeans = KMeans(n_clusters=3)\n",
    "labels = []\n",
    "\n",
    "clusterlength = 200\n",
    "i = 0\n",
    "while i < clusterlength:\n",
    "    img = X[int(n*random.random())]\n",
    "    xp1 = img.reshape(w,h)\n",
    "    xp2 = xp1.reshape(w*h, 1)\n",
    "    kmeans.fit(xp2)\n",
    "    label = kmeans.labels_\n",
    "    labels.append(label)\n",
    "    i = i + 1\n",
    "# for a full cycle: \n",
    "# for index, img in tqdm(enumerate(X)):\n",
    "#     xp1 = img.reshape(w,h)\n",
    "#     xp2 = xp1.reshape(w*h, 1)\n",
    "#     kmeans.fit(xp2)\n",
    "#     label = kmeans.labels_\n",
    "#     labels.append(label)"
   ]
  },
  {
   "cell_type": "code",
   "execution_count": 6,
   "metadata": {},
   "outputs": [
    {
     "data": {
      "image/png": "[encoded data removed]",
      "text/plain": [
       "<matplotlib.figure.Figure at 0x7f096d463908>"
      ]
     },
     "metadata": {},
     "output_type": "display_data"
    },
    {
     "data": {
      "image/png": "[encoded data removed]",
      "text/plain": [
       "<matplotlib.figure.Figure at 0x7f096d763b00>"
      ]
     },
     "metadata": {},
     "output_type": "display_data"
    }
   ],
   "source": [
    "plt.imshow(labels[28].reshape(w,h))\n",
    "im3=labels[12].reshape(w,h)\n",
    "plt.figure(figsize=(6, 6))\n",
    "plt.axis(\"off\")\n",
    "plt.imshow(im3)\n",
    "plt.colorbar()\n",
    "plt.show()"
   ]
  },
  {
   "cell_type": "code",
   "execution_count": 7,
   "metadata": {},
   "outputs": [
    {
     "name": "stdout",
     "output_type": "stream",
     "text": [
      "(10000,)\n"
     ]
    }
   ],
   "source": [
    "print(labels[0].shape)\n",
    "frame = pd.DataFrame(labels)\n",
    "frame.to_csv('../data/compositions.csv')"
   ]
  },
  {
   "cell_type": "code",
   "execution_count": 31,
   "metadata": {},
   "outputs": [],
   "source": [
    "np.savetxt('1.out', labels, fmt='%i', delimiter=',')"
   ]
  },
  {
   "cell_type": "code",
   "execution_count": null,
   "metadata": {},
   "outputs": [],
   "source": []
  }
 ],
 "metadata": {
  "kernelspec": {
   "display_name": "Python 3",
   "language": "python",
   "name": "python3"
  },
  "language_info": {
   "codemirror_mode": {
    "name": "ipython",
    "version": 3
   },
   "file_extension": ".py",
   "mimetype": "text/x-python",
   "name": "python",
   "nbconvert_exporter": "python",
   "pygments_lexer": "ipython3",
   "version": "3.5.2"
  }
 },
 "nbformat": 4,
 "nbformat_minor": 2
}
